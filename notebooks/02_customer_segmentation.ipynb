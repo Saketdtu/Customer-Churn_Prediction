{
  "cells": [
    {
      "cell_type": "markdown",
      "metadata": {},
      "source": [
        "# Customer Segmentation\n",
        "\n",
        "This notebook performs customer segmentation using clustering algorithms."
      ]
    },
    {
      "cell_type": "code",
      "execution_count": null,
      "metadata": {},
      "outputs": [],
      "source": [
        "# Import libraries\n",
        "import pandas as pd\n",
        "import numpy as np\n",
        "import matplotlib.pyplot as plt\n",
        "import seaborn as sns\n",
        "import os\n",
        "import sys\n",
        "\n",
        "# Add src directory to path\n",
        "sys.path.append(os.path.join(os.path.dirname(os.path.abspath('')), '../src'))\n",
        "\n",
        "# Import modules\n",
        "from src.data_preprocessing import DataPreprocessor\n",
        "from src.customer_segmentation import CustomerSegmentation\n",
        "\n",
        "# Set visualization style\n",
        "plt.style.use('seaborn-v0_8-whitegrid')\n",
        "sns.set_palette('viridis')\n",
        "\n",
        "# Display settings\n",
        "pd.set_option('display.max_columns', 50)\n",
        "pd.set_option('display.width', 1000)"
      ]
    },
    {
      "cell_type": "markdown",
      "metadata": {},
      "source": [
        "## 1. Load Processed Data"
      ]
    },
    {
      "cell_type": "code",
      "execution_count": null,
      "metadata": {},
      "outputs": [],
      "source": [
        "# Initialize data preprocessor\n",
        "preprocessor = DataPreprocessor()\n",
        "\n",
        "# Load processed data\n",
        "df = preprocessor.load_processed_data('../data/processed/processed_data.csv')\n",
        "\n",
        "# Display first few rows\n",
        "df.head()"
      ]
    },
    {
      "cell_type": "markdown",
      "metadata": {},
      "source": [
        "## 2. Prepare Data for Clustering"
      ]
    },
    {
      "cell_type": "code",
      "execution_count": null,
      "metadata": {},
      "outputs": [],
      "source": [
        "# Prepare data for clustering (exclude target variable and customer ID)\n",
        "clustering_data = df.drop(columns=['Churn', 'CustomerID'])\n",
        "\n",
        "print(f\"Data shape for clustering: {clustering_data.shape}\")\n",
        "print(\"\\nFeatures for clustering:\")\n",
        "print(clustering_data.columns.tolist())"
      ]
    },
    {
      "cell_type": "markdown",
      "metadata": {},
      "source": [
        "## 3. Find Optimal Number of Clusters"
      ]
    },
    {
      "cell_type": "code",
      "execution_count": null,
      "metadata": {},
      "outputs": [],
      "source": [
        "# Initialize customer segmentation\n",
        "segmenter = CustomerSegmentation()\n",
        "\n",
        "# Find optimal number of clusters\n",
        "inertias, silhouette_scores = segmenter.find_optimal_clusters(clustering_data, max_clusters=8)"
      ]
    },
    {
      "cell_type": "markdown",
      "metadata": {},
      "source": [
        "## 4. Perform Clustering"
      ]
    },
    {
      "cell_type": "code",
      "execution_count": null,
      "metadata": {},
      "outputs": [],
      "source": [
        "# Fit clustering model with optimal number of clusters\n",
        "optimal_clusters = 5  # Based on the analysis\n",
        "clusters = segmenter.fit_predict(clustering_data, n_clusters=optimal_clusters)\n",
        "\n",
        "# Add cluster labels to the original data\n",
        "df_with_clusters = df.copy()\n",
        "df_with_clusters['Cluster'] = clusters\n",
        "\n",
        "# Display cluster distribution\n",
        "cluster_counts = df_with_clusters['Cluster'].value_counts().sort_index()\n",
        "print(\"Cluster Distribution:\")\n",
        "print(cluster_counts)\n",
        "\n",
        "# Visualize cluster distribution\n",
        "plt.figure(figsize=(10, 6))\n",
        "sns.countplot(x='Cluster', data=df_with_clusters)\n",
        "plt.title('Cluster Distribution')\n",
        "plt.xlabel('Cluster')\n",
        "plt.ylabel('Count')\n",
        "\n",
        "# Add percentage labels\n",
        "total = len(df_with_clusters)\n",
        "for p in plt.gca().patches:\n",
        "    height = p.get_height()\n",
        "    plt.gca().text(p.get_x() + p.get_width()/2., height + 50,\n",
        "                    f'{height/total*100:.1f}%',\n",
        "                    ha='center', va='bottom')\n",
        "\n",
        "plt.tight_layout()\n",
        "plt.savefig('../visualizations/cluster_distribution.png', dpi=300)\n",
        "plt.show()"
      ]
    },
    {
      "cell_type": "markdown",
      "metadata": {},
      "source": [
        "## 5. Visualize Clusters"
      ]
    },
    {
      "cell_type": "code",
      "execution_count": null,
      "metadata": {},
      "outputs": [],
      "source": [
        "# Perform PCA for visualization\n",
        "pca_data, explained_variance = segmenter.perform_pca(clustering_data, n_components=2)\n",
        "\n",
        "print(f\"Explained variance by PCA components: {explained_variance}\")\n",
        "\n",
        "# Visualize clusters using PCA\n",
        "segmenter.visualize_clusters(clustering_data, clusters, pca_data)"
      ]
    },
    {
      "cell_type": "markdown",
      "metadata": {},
      "source": [
        "## 6. Analyze Cluster Characteristics"
      ]
    },
    {
      "cell_type": "code",
      "execution_count": null,
      "metadata": {},
      "outputs": [],
      "source": [
        "# Analyze clusters\n",
        "cluster_analysis = segmenter.analyze_clusters(clustering_data, clusters)\n",
        "\n",
        "# Analyze churn by cluster\n",
        "cluster_churn = df_with_clusters.groupby('Cluster')['Churn'].agg(['mean', 'sum', 'count'])\n",
        "cluster_churn.columns = ['Churn Rate', 'Churn Count', 'Total Customers']\n",
        "cluster_churn['Churn Rate'] = cluster_churn['Churn Rate'] * 100\n",
        "\n",
        "print(\"Churn Analysis by Cluster:\")\n",
        "print(cluster_churn)\n",
        "\n",
        "# Visualize churn by cluster\n",
        "plt.figure(figsize=(12, 6))\n",
        "sns.barplot(x=cluster_churn.index, y='Churn Rate', data=cluster_churn)\n",
        "plt.title('Churn Rate by Cluster')\n",
        "plt.xlabel('Cluster')\n",
        "plt.ylabel('Churn Rate (%)')\n",
        "\n",
        "# Add value labels\n",
        "for p in plt.gca().patches:\n",
        "    height = p.get_height()\n",
        "    plt.gca().text(p.get_x() + p.get_width()/2., height + 0.5,\n",
        "                    f'{height:.1f}%',\n",
        "                    ha='center', va='bottom')\n",
        "\n",
        "plt.tight_layout()\n",
        "plt.savefig('../visualizations/churn_by_cluster.png', dpi=300)\n",
        "plt.show()"
      ]
    },
    {
      "cell_type": "markdown",
      "metadata": {},
      "source": [
        "## 7. Feature Analysis by Cluster"
      ]
    },
    {
      "cell_type": "code",
      "execution_count": null,
      "metadata": {},
      "outputs": [],
      "source": [
        "# Select key features for analysis\n",
        "key_features = ['CreditScore', 'Age', 'Balance', 'EstimatedSalary']\n",
        "\n",
        "# Create a figure with subplots\n",
        "plt.figure(figsize=(15, 12))\n",
        "\n",
        "for i, feature in enumerate(key_features):\n",
        "    plt.subplot(2, 2, i+1)\n",
        "    sns.boxplot(x='Cluster', y=feature, data=df_with_clusters)\n",
        "    plt.title(f'{feature} by Cluster')\n",
        "    plt.tight_layout()\n",
        "\n",
        "plt.savefig('../visualizations/features_by_cluster.png', dpi=300)\n",
        "plt.show()"
      ]
    },
    {
      "cell_type": "markdown",
      "metadata": {},
      "source": [
        "## 8. Save Model and Results"
      ]
    },
    {
      "cell_type": "code",
      "execution_count": null,
      "metadata": {},
      "outputs": [],
      "source": [
        "# Save clustering model\n",
        "segmenter.save_model('../models/cluster_model.pkl')\n",
        "\n",
        "# Save data with clusters\n",
        "df_with_clusters.to_csv('../data/processed/data_with_clusters.csv', index=False)\n",
        "\n",
        "print(\"Model and results saved successfully.\")"
      ]
    },
    {
      "cell_type": "markdown",
      "metadata": {},
      "source": [
        "## 9. Summary\n",
        "\n",
        "This notebook performed customer segmentation using K-means clustering. Key findings:\n",
        "\n",
        "1. Identified 5 distinct customer segments\n",
        "2. Clusters show different characteristics and churn patterns\n",
        "3. Some clusters have significantly higher churn rates\n",
        "4. PCA visualization shows clear separation between clusters\n",
        "\n",
        "Next steps:\n",
        "- Build churn prediction models\n",
        "- Generate business insights and recommendations\n",
        "- Develop targeted retention strategies"
      ]
    }
  ],
  "nbformat": 4,
  "nbformat_minor": 4,
  "metadata": {
    "kernelspec": {
      "display_name": "Python 3",
      "language": "python",
      "name": "python3"
    },
    "language_info": {
      "codemirror_mode": {
        "name": "ipython",
        "version": 3
      },
      "file_extension": ".py",
      "mimetype": "text/x-python",
      "name": "python",
      "nbconvert_exporter": "python",
      "pygments_lexer": "ipython3",
      "version": "3.8.5"
    }
  }
}