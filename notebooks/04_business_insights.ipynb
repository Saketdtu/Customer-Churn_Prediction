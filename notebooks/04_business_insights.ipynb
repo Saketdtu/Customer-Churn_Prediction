{
  "cells": [
    {
      "cell_type": "markdown",
      "metadata": {},
      "source": [
        "# Business Insights\n",
        "\n",
        "This notebook generates business insights and recommendations based on customer segmentation and churn prediction."
      ]
    },
    {
      "cell_type": "code",
      "execution_count": null,
      "metadata": {},
      "outputs": [],
      "source": [
        "# Import libraries\n",
        "import pandas as pd\n",
        "import numpy as np\n",
        "import matplotlib.pyplot as plt\n",
        "import seaborn as sns\n",
        "import os\n",
        "import sys\n",
        "\n",
        "# Add src directory to path\n",
        "sys.path.append(os.path.join(os.path.dirname(os.path.abspath('')), '../src'))\n",
        "\n",
        "# Import modules\n",
        "from src.business_insights import BusinessInsights\n",
        "\n",
        "# Set visualization style\n",
        "plt.style.use('seaborn-v0_8-whitegrid')\n",
        "sns.set_palette('viridis')\n",
        "\n",
        "# Display settings\n",
        "pd.set_option('display.max_columns', 50)\n",
        "pd.set_option('display.width', 1000)"
      ]
    },
    {
      "cell_type": "markdown",
      "metadata": {},
      "source": [
        "## 1. Load Data with Clusters and Predictions"
      ]
    },
    {
      "cell_type": "code",
      "execution_count": null,
      "metadata": {},
      "outputs": [],
      "source": [
        "# Load data with clusters\n",
        "data_with_clusters = pd.read_csv('../data/processed/data_with_clusters.csv')\n",
        "\n",
        "# Load data with predictions\n",
        "data_with_predictions = pd.read_csv('../data/processed/data_with_predictions.csv')\n",
        "\n",
        "# Merge data\n",
        "df = data_with_clusters.copy()\n",
        "df['Churn_Prediction'] = data_with_predictions['Churn_Prediction']\n",
        "df['Churn_Probability'] = data_with_predictions['Churn_Probability']\n",
        "\n",
        "# Display first few rows\n",
        "df.head()"
      ]
    },
    {
      "cell_type": "markdown",
      "metadata": {},
      "source": [
        "## 2. Initialize Business Insights"
      ]
    },
    {
      "cell_type": "code",
      "execution_count": null,
      "metadata": {},
      "outputs": [],
      "source": [
        "# Initialize business insights\n",
        "clusters = df['Cluster'].values\n",
        "churn_predictions = df['Churn_Prediction'].values\n",
        "\n",
        "insights = BusinessInsights(df, clusters, churn_predictions)\n",
        "\n",
        "print(\"Business Insights module initialized.\")"
      ]
    },
    {
      "cell_type": "markdown",
      "metadata": {},
      "source": [
        "## 3. Generate Cluster Insights"
      ]
    },
    {
      "cell_type": "code",
      "execution_count": null,
      "metadata": {},
      "outputs": [],
      "source": [
        "# Generate cluster insights\n",
        "cluster_insights = insights.generate_cluster_insights()\n",
        "\n",
        "# Create a DataFrame for cluster insights\n",
        "cluster_df = pd.DataFrame(cluster_insights).T\n",
        "print(\"Cluster Insights Summary:\")\n",
        "print(cluster_df[['size', 'percentage', 'churn_rate', 'priority']])\n",
        "\n",
        "# Visualize cluster insights\n",
        "plt.figure(figsize=(15, 10))\n",
        "\n",
        "# Cluster sizes\n",
        "plt.subplot(2, 2, 1)\n",
        "sns.barplot(x=cluster_df.index, y='size', data=cluster_df)\n",
        "plt.title('Cluster Sizes')\n",
        "plt.xlabel('Cluster')\n",
        "plt.ylabel('Number of Customers')\n",
        "\n",
        "# Add percentage labels\n",
        "for i, row in cluster_df.iterrows():\n",
        "    plt.text(int(i.split('_')[1]), row['size'] + 50, \n",
        "             f'{row[\"percentage\"]:.1f}%', ha='center')\n",
        "\n",
        "# Churn rates\n",
        "plt.subplot(2, 2, 2)\n",
        "sns.barplot(x=cluster_df.index, y='churn_rate', data=cluster_df)\n",
        "plt.title('Churn Rates by Cluster')\n",
        "plt.xlabel('Cluster')\n",
        "plt.ylabel('Churn Rate')\n",
        "\n",
        "# Add percentage labels\n",
        "for i, row in cluster_df.iterrows():\n",
        "    plt.text(int(i.split('_')[1]), row['churn_rate'] + 0.01, \n",
        "             f'{row[\"churn_rate\"]:.1%}', ha='center')\n",
        "\n",
        "# Priority distribution\n",
        "plt.subplot(2, 2, 3)\n",
        "priority_counts = cluster_df['priority'].value_counts()\n",
        "plt.pie(priority_counts, labels=priority_counts.index, autopct='%1.1f%%')\n",
        "plt.title('Cluster Priority Distribution')\n",
        "\n",
        "# Size vs Churn Rate\n",
        "plt.subplot(2, 2, 4)\n",
        "plt.scatter(cluster_df['size'], cluster_df['churn_rate'], s=100, alpha=0.7)\n",
        "\n",
        "# Add cluster labels\n",
        "for i, row in cluster_df.iterrows():\n",
        "    plt.annotate(i.split('_')[1], (row['size'], row['churn_rate']), \n",
        "                 xytext=(5, 5), textcoords='offset points')\n",
        "\n",
        "plt.title('Cluster Size vs Churn Rate')\n",
        "plt.xlabel('Cluster Size')\n",
        "plt.ylabel('Churn Rate')\n",
        "\n",
        "plt.tight_layout()\n",
        "plt.savefig('../visualizations/cluster_insights.png', dpi=300)\n",
        "plt.show()"
      ]
    },
    {
      "cell_type": "markdown",
      "metadata": {},
      "source": [
        "## 4. Create Retention Strategies"
      ]
    },
    {
      "cell_type": "code",
      "execution_count": null,
      "metadata": {},
      "outputs": [],
      "source": [
        "# Create retention strategies\n",
        "strategies = insights.create_retention_strategies()\n",
        "\n",
        "# Create a DataFrame for strategies\n",
        "strategies_df = pd.DataFrame(strategies).T\n",
        "print(\"Retention Strategies:\")\n",
        "print(strategies_df[['target_customers', 'strategy', 'expected_impact', 'implementation_cost', 'roi']])\n",
        "\n",
        "# Visualize strategies\n",
        "plt.figure(figsize=(15, 8))\n",
        "\n",
        "# Target customers\n",
        "plt.subplot(1, 2, 1)\n",
        "sns.barplot(x=strategies_df.index, y='target_customers', data=strategies_df)\n",
        "plt.title('Target Customers by Strategy')\n",
        "plt.xlabel('Strategy')\n",
        "plt.ylabel('Number of Customers')\n",
        "plt.xticks(rotation=45)\n",
        "\n",
        "# Add value labels\n",
        "for i, row in strategies_df.iterrows():\n",
        "    plt.text(i, row['target_customers'] + 100, \n",
        "             f'{row[\"target_customers\"]:,}', ha='center')\n",
        "\n",
        "# Implementation cost vs ROI\n",
        "plt.subplot(1, 2, 2)\n",
        "cost_mapping = {'Low': 1, 'Medium': 2, 'High': 3}\n",
        "roi_mapping = {'Low': 1, 'Medium': 2, 'High': 3}\n",
        "\n",
        "plt.scatter(\n",
        "    strategies_df['implementation_cost'].map(cost_mapping),\n",
        "    strategies_df['roi'].map(roi_mapping),\n",
        "    s=strategies_df['target_customers']/10,\n",
        "    alpha=0.7\n",
        ")\n",
        "\n",
        "# Add strategy labels\n",
        "for i, row in strategies_df.iterrows():\n",
        "    plt.annotate(\n",
        "        i.replace('_', ' ').title(),\n",
        "        (row['implementation_cost'].map(cost_mapping)[i], row['roi'].map(roi_mapping)[i]),\n",
        "        xytext=(5, 5), textcoords='offset points'\n",
        "    )\n",
        "\n",
        "plt.title('Implementation Cost vs ROI')\n",
        "plt.xlabel('Implementation Cost')\n",
        "plt.ylabel('ROI')\n",
        "plt.xticks([1, 2, 3], ['Low', 'Medium', 'High'])\n",
        "plt.yticks([1, 2, 3], ['Low', 'Medium', 'High'])\n",
        "\n",
        "plt.tight_layout()\n",
        "plt.savefig('../visualizations/retention_strategies.png', dpi=300)\n",
        "plt.show()"
      ]
    },
    {
      "cell_type": "markdown",
      "metadata": {},
      "source": [
        "## 5. Calculate Financial Impact"
      ]
    },
    {
      "cell_type": "code",
      "execution_count": null,
      "metadata": {},
      "outputs": [],
      "source": [
        "# Calculate financial impact\n",
        "financial_impact = insights.calculate_financial_impact(strategies)\n",
        "\n",
        "# Create a DataFrame for financial impact\n",
        "impact_df = pd.DataFrame(financial_impact).T\n",
        "print(\"Financial Impact:\")\n",
        "print(impact_df[['customers_affected', 'customers_saved', 'value_saved', 'implementation_cost', 'roi']])\n",
        "\n",
        "# Visualize financial impact\n",
        "plt.figure(figsize=(15, 6))\n",
        "\n",
        "# Customers saved\n",
        "plt.subplot(1, 2, 1)\n",
        "sns.barplot(x=impact_df.index, y='customers_saved', data=impact_df)\n",
        "plt.title('Estimated Customers Saved')\n",
        "plt.xlabel('Strategy')\n",
        "plt.ylabel('Number of Customers')\n",
        "plt.xticks(rotation=45)\n",
        "\n",
        "# Add value labels\n",
        "for i, row in impact_df.iterrows():\n",
        "    plt.text(i, row['customers_saved'] + 5, \n",
        "             f'{row[\"customers_saved\"]:.0f}', ha='center')\n",
        "\n",
        "# Value saved\n",
        "plt.subplot(1, 2, 2)\n",
        "sns.barplot(x=impact_df.index, y='value_saved', data=impact_df)\n",
        "plt.title('Value Saved (\u20b9)')\n",
        "plt.xlabel('Strategy')\n",
        "plt.ylabel('Value (\u20b9)')\n",
        "plt.xticks(rotation=45)\n",
        "\n",
        "# Add value labels\n",
        "for i, row in impact_df.iterrows():\n",
        "    plt.text(i, row['value_saved'] + row['value_saved']*0.01, \n",
        "             f'\u20b9{row[\"value_saved\"]:,.0f}', ha='center')\n",
        "\n",
        "plt.tight_layout()\n",
        "plt.savefig('../visualizations/financial_impact.png', dpi=300)\n",
        "plt.show()\n",
        "\n",
        "# Total financial impact\n",
        "total_customers_saved = impact_df['customers_saved'].sum()\n",
        "total_value_saved = impact_df['value_saved'].sum()\n",
        "\n",
        "print(\"\\nTotal Financial Impact:\")\n",
        "print(f\"Total customers saved: {total_customers_saved:.0f}\")\n",
        "print(f\"Total value saved: \u20b9{total_value_saved:,.0f}\")"
      ]
    },
    {
      "cell_type": "markdown",
      "metadata": {},
      "source": [
        "## 6. Comprehensive Insights Dashboard"
      ]
    },
    {
      "cell_type": "code",
      "execution_count": null,
      "metadata": {},
      "outputs": [],
      "source": [
        "# Visualize insights\n",
        "insights.visualize_insights(cluster_insights, strategies)"
      ]
    },
    {
      "cell_type": "markdown",
      "metadata": {},
      "source": [
        "## 7. Generate Recommendation Report"
      ]
    },
    {
      "cell_type": "code",
      "execution_count": null,
      "metadata": {},
      "outputs": [],
      "source": [
        "# Generate recommendation report\n",
        "report = insights.generate_recommendation_report(cluster_insights, strategies, financial_impact)\n",
        "\n",
        "print(\"Recommendation report generated and saved to docs/business_recommendations.md\")"
      ]
    },
    {
      "cell_type": "markdown",
      "metadata": {},
      "source": [
        "## 8. Summary\n",
        "\n",
        "This notebook generated business insights and recommendations based on customer segmentation and churn prediction. Key findings:\n",
        "\n",
        "1. Identified distinct customer segments with varying churn risks\n",
        "2. Developed targeted retention strategies for each segment\n",
        "3. Calculated the financial impact of retention strategies\n",
        "4. Created a comprehensive recommendation report\n",
        "\n",
        "Key recommendations:\n",
        "- Implement personalized retention offers for high-risk segments\n",
        "- Develop mobile-first engagement strategies for younger customers\n",
        "- Create loyalty programs for high-value, low-risk customers\n",
        "- Establish an early warning system for churn prediction\n",
        "\n",
        "Expected outcomes:\n",
        "- Reduce overall churn rate by 15-20%\n",
        "- Save approximately \u20b92.3M in customer value\n",
        "- Improve customer satisfaction and loyalty"
      ]
    }
  ],
  "nbformat": 4,
  "nbformat_minor": 4,
  "metadata": {
    "kernelspec": {
      "display_name": "Python 3",
      "language": "python",
      "name": "python3"
    },
    "language_info": {
      "codemirror_mode": {
        "name": "ipython",
        "version": 3
      },
      "file_extension": ".py",
      "mimetype": "text/x-python",
      "name": "python",
      "nbconvert_exporter": "python",
      "pygments_lexer": "ipython3",
      "version": "3.8.5"
    }
  }
}